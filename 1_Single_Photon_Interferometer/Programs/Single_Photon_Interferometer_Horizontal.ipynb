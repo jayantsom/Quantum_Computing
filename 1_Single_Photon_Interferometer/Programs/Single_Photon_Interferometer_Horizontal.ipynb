{
 "cells": [
  {
   "cell_type": "markdown",
   "id": "24d086ba-94e8-4c9a-883b-61cea78fabd7",
   "metadata": {},
   "source": [
    "#### The Single-Photon interferometer experiment : "
   ]
  },
  {
   "cell_type": "markdown",
   "id": "299fd03c-12f8-4028-b29f-c9955f871f54",
   "metadata": {},
   "source": [
    "![SPI](https://perg.phys.ksu.edu/vqmorig/tutorials/online/wave_part/mach_zeh.gif)\n",
    "\n",
    "***Fig 01 : Demonstration of a Single-Photon interferometer experiment***"
   ]
  },
  {
   "cell_type": "markdown",
   "id": "13212657-1bd8-42e4-b623-f981f8fbc965",
   "metadata": {},
   "source": [
    "*In the figure above, the incident photon is in horizontal direction."
   ]
  },
  {
   "cell_type": "markdown",
   "id": "2d87c62c-4a33-4de0-bda6-7a458be3d3db",
   "metadata": {},
   "source": [
    "## 1. Quantum Circuit code and output"
   ]
  },
  {
   "cell_type": "markdown",
   "id": "bf959f6a-59a5-4768-b524-672cb92f3538",
   "metadata": {},
   "source": [
    "#### i) Imports :"
   ]
  },
  {
   "cell_type": "code",
   "execution_count": 1,
   "id": "7e652a2d-49dc-4d29-994f-773fb6245373",
   "metadata": {},
   "outputs": [],
   "source": [
    "# Importing the QuantumCircuit class from Qiskit\n",
    "# The QuantumCircuit class is used to create quantum circuits\n",
    "from qiskit import QuantumCircuit\n",
    "\n",
    "# Importing the numpy library\n",
    "# Numpy is used for working with arrays and perform numerical operations\n",
    "import numpy as np  "
   ]
  },
  {
   "cell_type": "markdown",
   "id": "7d5efa89-b38b-40e0-b121-98073260df6e",
   "metadata": {},
   "source": [
    "#### ii) Quantum circuit creation :"
   ]
  },
  {
   "cell_type": "code",
   "execution_count": 2,
   "id": "09af8465-edb9-4697-baf6-d4f678f2abac",
   "metadata": {},
   "outputs": [],
   "source": [
    "# My Circuit will use 1 qubit and 1 classical bit\n",
    "# So parameterizing the value to use it in all places\n",
    "n = 1\n",
    "\n",
    "# I am creating a new object of the QuantumCircuit class \n",
    "# I am assigning this object to the variable named 'circuit' \n",
    "# The QuantumCircuit constructor takes 2 arguments: (Qubits, Classical bits)\n",
    "# In my circuit, parameter n = 1, so 1 qubit and 1 classical bit is there\n",
    "circuit = QuantumCircuit(n, n)"
   ]
  },
  {
   "cell_type": "markdown",
   "id": "41d7b493-ba6e-4c25-92ba-db93eec4cbe2",
   "metadata": {},
   "source": [
    "#### iii) Adding different components to my circuit :"
   ]
  },
  {
   "cell_type": "code",
   "execution_count": 3,
   "id": "297482b2-5ec1-4f00-8f05-5030668a00a5",
   "metadata": {},
   "outputs": [
    {
     "data": {
      "text/plain": [
       "<qiskit.circuit.instructionset.InstructionSet at 0x2729a47ff70>"
      ]
     },
     "execution_count": 3,
     "metadata": {},
     "output_type": "execute_result"
    }
   ],
   "source": [
    "# 1st Beam splitter:\n",
    "# I am applying a rotation gate Rx around the x-axis by -π/2 rad to qubit 0.\n",
    "# The rx method takes 2 arguments (angle of rotation, qubit index)\n",
    "# The angle of rotation is -90° = -π/2 rad. Numpy computes this value.\n",
    "# The rx gate is applied on the first index qubit 0\n",
    "circuit.rx(-np.pi/2, 0)\n",
    "\n",
    "# Mirror : \n",
    "# I am applying an X gate on the first index qubit 0.\n",
    "# This X gate is equivalent to NOT gate which reverses the qubit state.\n",
    "circuit.x(0)\n",
    "\n",
    "# 2nd Beam splitter : \n",
    "# I am applying another rotation gate Rx \n",
    "# around the x-axis by -π/2 rad to qubit 0.\n",
    "circuit.rx(-np.pi/2, 0)"
   ]
  },
  {
   "cell_type": "markdown",
   "id": "c9b6cb52-00d3-4cbd-9808-1753d5e6fb5e",
   "metadata": {},
   "source": [
    "#### iv) Measurement and circuit diagram :"
   ]
  },
  {
   "cell_type": "code",
   "execution_count": 4,
   "id": "022533fc-9d0b-443a-857a-e6f35b087e3e",
   "metadata": {},
   "outputs": [
    {
     "data": {
      "image/png": "[encoded data removed]",
      "text/plain": [
       "<Figure size 436.286x200.667 with 1 Axes>"
      ]
     },
     "execution_count": 4,
     "metadata": {},
     "output_type": "execute_result"
    }
   ],
   "source": [
    "# The measure method is used to measure qubit \n",
    "# and store the result in classical bit.\n",
    "# It takes 2 arguments (qubits, classical bits)\n",
    "# I am measuring the single qubit index 0\n",
    "# I am storing the result in single classical bit 0\n",
    "circuit.measure([0], [0])\n",
    "\n",
    "# The draw method is used to visualize the quantum circuit.\n",
    "# I am drawing the circuit using the 'mpl' output and 'iqp' style\n",
    "# mpl is used to render the quantum circuit using Matplotlib library.\n",
    "# iqp is used for styling the circuit diagram. \n",
    "circuit.draw(output='mpl', style='iqp')"
   ]
  },
  {
   "cell_type": "markdown",
   "id": "c37ca08a-28f7-4bf6-aea5-9de8d07c62dc",
   "metadata": {},
   "source": [
    "***Fig 02 : Quantum Circuit for the Single Photon Interferometer***\n",
    "\n",
    "The above circuit diagram comprises of following notations and components :\n",
    "\n",
    "**Circuit Notations :**\n",
    "\n",
    "- **q** is the quantum bit which is represented by the solid horizontal line.\n",
    "- **c** is the classical bit after measurement which is represented by the double lines.\n",
    "- **1/** above the double lines represents the no. of classical data bits.\n",
    "\n",
    "**Circuit Components :**\n",
    "\n",
    "- **Rx** in red box represents the 1st Beam-Splitter. It is used to apply rotation around the x-axis by -π/2 rad.\n",
    "- **X** in blue box represents the Mirror. It is used to reflect the photon's path.\n",
    "- **Rx** in red box represents the 2nd Beam-Splitter. It is used to apply rotation around the x-axis by -π/2 rad.\n",
    "- **Meter** in gray box represents the Measurement operation."
   ]
  },
  {
   "cell_type": "markdown",
   "id": "9d47a466-2e89-42a3-875c-7765d9c9f451",
   "metadata": {},
   "source": [
    "## 2. Simulation code and output"
   ]
  },
  {
   "cell_type": "markdown",
   "id": "199e9102-7c10-4d57-aef1-8d7c89ae2f78",
   "metadata": {},
   "source": [
    "#### i) Imports :"
   ]
  },
  {
   "cell_type": "code",
   "execution_count": 5,
   "id": "d220154b-8b79-4b1c-a2b6-7d8c18d74532",
   "metadata": {},
   "outputs": [],
   "source": [
    "# The qiskit_aer library provides backend quantum simulators \n",
    "# I am importing the Aer module which contains various type of simulators.\n",
    "from qiskit_aer import Aer\n",
    "\n",
    "# I am importing the transpile function from the qiskit library\n",
    "# Transpile function is required to ensure that my circuit \n",
    "# is able to run on the simulator.\n",
    "from qiskit import transpile\n",
    "\n",
    "# Importing the plot_histogram function from qiskit \n",
    "# It used to visualize the simulation result.\n",
    "from qiskit.visualization import plot_histogram "
   ]
  },
  {
   "cell_type": "markdown",
   "id": "f7a28524-eaab-4f3a-8c3b-e0eb5eb1fd56",
   "metadata": {},
   "source": [
    "#### ii) Getting the Simulator and running it"
   ]
  },
  {
   "cell_type": "code",
   "execution_count": 6,
   "id": "90a89474-5fd4-4120-92fd-2433567003de",
   "metadata": {},
   "outputs": [],
   "source": [
    "# I am creating a new backend object of Aer\n",
    "# I am assigning this object to the variable named 'simulator' \n",
    "# I am using the \"qasm_simulator\" backend from Aer. \n",
    "# The qasm simulator runs the circuit and its result is classical bits.\n",
    "simulator = Aer.get_backend(\"qasm_simulator\")\n",
    "\n",
    "# Transpile transforms the circuit to something appropriate for the machine.\n",
    "# I am transpiling my circuit for the backend qasm simulator\n",
    "# I am storing my transpiled circuit in variable named'sim_circuit'  \n",
    "sim_circuit = transpile(circuit, backend = simulator)\n",
    "\n",
    "# The run method in the simulator executes the transpiled circuit\n",
    "# run method returns a job object which I am storing in variable named 'job'.\n",
    "job = simulator.run(sim_circuit)"
   ]
  },
  {
   "cell_type": "markdown",
   "id": "f9e8aa12-6965-422f-ab62-9dc3bd177bb4",
   "metadata": {},
   "source": [
    "#### iii) Fetching the result and plotting histogram :"
   ]
  },
  {
   "cell_type": "code",
   "execution_count": 7,
   "id": "f143cce8-7c64-4930-894d-f0e64327ab16",
   "metadata": {},
   "outputs": [
    {
     "data": {
      "image/png": "[encoded data removed]",
      "text/plain": [
       "<Figure size 640x480 with 1 Axes>"
      ]
     },
     "execution_count": 7,
     "metadata": {},
     "output_type": "execute_result"
    }
   ],
   "source": [
    "# I am fetching the results of the simulation job execution.\n",
    "# I am storing this result in variable named 'result'.\n",
    "# This result contains the counts of each measurement outcome.\n",
    "result = job.result()\n",
    "\n",
    "# I am generating and displaying a histogram of the simulation outcomes.\n",
    "# result.get_counts() method is used to find the count of different outcomes.\n",
    "# By default, the no. of trials is 1024.\n",
    "plot_histogram(result.get_counts())"
   ]
  },
  {
   "cell_type": "markdown",
   "id": "71860c5f-9799-46af-93fe-595646b6ad8e",
   "metadata": {},
   "source": [
    "***Fig 03 : Measured state Vs Counts***\n",
    "\n",
    "The histogram represents the probability of measuring the output state when my quantum circuit runs on the simulator.\n",
    "\n",
    "In the above histogram :\n",
    "- The **x-axis** represents the measured state.\n",
    "- The **y-axis** represents the number of times each state was measured. By default, it is 1024 times.\n",
    "\n",
    "Here, there is 0 on x-axis, which means that the measurement found the qubit in |0⟩ state. The qubit remained in the |0> state after 1024 trials. This is in accordance with our experimental setup."
   ]
  }
 ],
 "metadata": {
  "kernelspec": {
   "display_name": "Python 3 (ipykernel)",
   "language": "python",
   "name": "python3"
  },
  "language_info": {
   "codemirror_mode": {
    "name": "ipython",
    "version": 3
   },
   "file_extension": ".py",
   "mimetype": "text/x-python",
   "name": "python",
   "nbconvert_exporter": "python",
   "pygments_lexer": "ipython3",
   "version": "3.13.1"
  }
 },
 "nbformat": 4,
 "nbformat_minor": 5
}
