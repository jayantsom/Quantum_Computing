{
 "cells": [
  {
   "cell_type": "markdown",
   "id": "a101de61-6695-4360-a6a4-98823056a5b2",
   "metadata": {},
   "source": [
    "# QP-1A : Single photon interferometer, IBM QC Hardware calculation\n",
    "\n",
    " - Name : **Jayant Som**\n",
    " \n",
    " - Contact : **jsom@buffalo.edu | 716-348-7708**"
   ]
  },
  {
   "cell_type": "markdown",
   "id": "b9f0192d-8ef5-42aa-8fad-2bdedb698900",
   "metadata": {},
   "source": [
    "**_______________________________________________________________________________________________________________**"
   ]
  },
  {
   "cell_type": "markdown",
   "id": "73dc120b-9dd9-46d3-8584-4303d91d92ba",
   "metadata": {},
   "source": [
    "### Single Photon Interferometer with the single photon incident HORIZONTALLY (in |0> state)"
   ]
  },
  {
   "cell_type": "markdown",
   "id": "d9a17d76-1b4d-4685-ac8e-e9d1b745cd61",
   "metadata": {},
   "source": [
    "#### i) Imports :"
   ]
  },
  {
   "cell_type": "code",
   "execution_count": 14,
   "id": "8157c7d4-d55a-43df-a3ac-6a883a898a60",
   "metadata": {},
   "outputs": [],
   "source": [
    "# Importing the QiskitRuntimeService class from qiskit_ibm_runtime module\n",
    "# The QiskitRuntimeService class is used to connect to IBMQ Services \n",
    "# and run actual IBM QC hardware\n",
    "\n",
    "# Importing the SamplerV2 class from qiskit_ibm_runtime module\n",
    "# The SamplerV2 class is used to find the probabilities of output states\n",
    "from qiskit_ibm_runtime import QiskitRuntimeService, SamplerV2 as Sampler\n",
    "\n",
    "# Importing the QuantumCircuit class from Qiskit\n",
    "# The QuantumCircuit class is used to create quantum circuits\n",
    "from qiskit import QuantumCircuit\n",
    "\n",
    "# Importing the numpy library\n",
    "# Numpy is used for working with arrays and perform numerical operations\n",
    "import numpy as np\n",
    "\n",
    "# I am importing the transpile function from the qiskit library\n",
    "# Transpile function is required to ensure that my circuit \n",
    "# is able to run on the simulator.\n",
    "from qiskit import transpile\n",
    "\n",
    "# Importing the plot_histogram function from qiskit \n",
    "# It used to visualize the simulation result.\n",
    "from qiskit.visualization import plot_histogram"
   ]
  },
  {
   "cell_type": "markdown",
   "id": "75e94221-5610-4323-8c03-0a5d47ce8a07",
   "metadata": {},
   "source": [
    "#### ii) Saving IBM QC Instance in local"
   ]
  },
  {
   "cell_type": "code",
   "execution_count": 15,
   "id": "c045910a-143f-4a61-96f5-9bac77315a38",
   "metadata": {},
   "outputs": [],
   "source": [
    "# The save_account function is used to save my IBMQ account credentials\n",
    "# channel is service provided by IBM QC\n",
    "# instance denotes the specific IBM QC instance which I want to use \n",
    "# The instance avaialble by default is 'open',\n",
    "# so I am selecting the 'open/main' instance\n",
    "# token is the IBMQ API token for my account\n",
    "# set_as_default = True is used to make my account default \n",
    "# for all future runs.\n",
    "# overwrite = True is used to replace any existing account information\n",
    "\n",
    "# I have commented out this line of code \n",
    "# beacuse my account credentials are already saved in my local\n",
    "\n",
    "#QiskitRuntimeService.save_account(channel='ibm_quantum', \n",
    "#instance='ibm-q/open/main',\n",
    "#token='paste_my_token',\n",
    "#set_as_default=True, overwrite=True)"
   ]
  },
  {
   "cell_type": "markdown",
   "id": "f16ac482-fc2b-4419-80fe-392b20605c83",
   "metadata": {},
   "source": [
    "#### iii) Loading credentials and checking the available hardware "
   ]
  },
  {
   "cell_type": "code",
   "execution_count": 16,
   "id": "7a648e0b-55f4-4dce-9f85-43321e4e6c47",
   "metadata": {},
   "outputs": [
    {
     "data": {
      "text/plain": [
       "[<IBMBackend('ibm_brisbane')>,\n",
       " <IBMBackend('ibm_sherbrooke')>,\n",
       " <IBMBackend('ibm_kyiv')>]"
      ]
     },
     "execution_count": 16,
     "metadata": {},
     "output_type": "execute_result"
    }
   ],
   "source": [
    "# I am creating a new object of QiskitRuntimeService\n",
    "# I am assigning this object to the variable named 'service' \n",
    "# It is used to connect with my IBMQ account and use the sevices\n",
    "service = QiskitRuntimeService() \n",
    "\n",
    "# backends method is used to fetch list of all available quantum backends\n",
    "# operational = True : It is used to find the backends currently available\n",
    "# simulator = False : This is used to exclude simulators\n",
    "# min_num_qubits = 5 : This is used to select only those hardware \n",
    "# which has at least 5 qubits\n",
    "mybackends = service.backends(operational = True, simulator = False, \n",
    "                              min_num_qubits = 5)\n",
    "mybackends"
   ]
  },
  {
   "cell_type": "markdown",
   "id": "b0b6f66d-77c0-466f-88da-ea4a128b0ce6",
   "metadata": {},
   "source": [
    "***There are 3 available backends at the time of running this code***"
   ]
  },
  {
   "cell_type": "markdown",
   "id": "bb8a266a-2a83-4c36-9588-b9a65fdc5166",
   "metadata": {},
   "source": [
    "#### iv) Selecting least busy hardware"
   ]
  },
  {
   "cell_type": "code",
   "execution_count": 17,
   "id": "095c4916-60f9-4d23-97eb-878284239cb1",
   "metadata": {},
   "outputs": [
    {
     "data": {
      "text/plain": [
       "<IBMBackend('ibm_sherbrooke')>"
      ]
     },
     "execution_count": 17,
     "metadata": {},
     "output_type": "execute_result"
    }
   ],
   "source": [
    "# least_busy method is used to pick the best available backend\n",
    "# which satisfies the following criteria : \n",
    "# operational = True -> the backends currently available\n",
    "# simulator = False -> excluding simulators\n",
    "# min_num_qubits = 5 -> select only that hardware which has at least 5 qubits\n",
    "device = service.least_busy(operational = True, simulator = False, \n",
    "                            min_num_qubits = 5) \n",
    "device "
   ]
  },
  {
   "cell_type": "markdown",
   "id": "25bffb64-8221-4bb0-8d5e-f7a46f68efdc",
   "metadata": {},
   "source": [
    "***The sherbrooke backend is selected as it matches all the filter conditions***"
   ]
  },
  {
   "cell_type": "markdown",
   "id": "4f12b112-4ddb-4cb3-aed6-a96adbf825f3",
   "metadata": {},
   "source": [
    "#### v) Quantum Circuit creation : Horizontal : |0> is the default input state"
   ]
  },
  {
   "cell_type": "code",
   "execution_count": 18,
   "id": "e1f0e323-ae3c-43a3-91e4-ebab1c8a2f13",
   "metadata": {},
   "outputs": [
    {
     "data": {
      "text/plain": [
       "<qiskit.circuit.instructionset.InstructionSet at 0x1c74ba238e0>"
      ]
     },
     "execution_count": 18,
     "metadata": {},
     "output_type": "execute_result"
    }
   ],
   "source": [
    "# My Circuit will use 1 qubit and 1 classical bit\n",
    "# So parameterizing the value to use it in all places\n",
    "n = 1\n",
    "\n",
    "# I am creating a new object of the QuantumCircuit class \n",
    "# I am assigning this object to the variable named 'circuit' \n",
    "# The QuantumCircuit constructor takes 2 arguments: (Qubits, Classical bits)\n",
    "# In my circuit, parameter n = 1, so 1 qubit and 1 classical bit is there\n",
    "circuit = QuantumCircuit(n, n)\n",
    "\n",
    "# 1st Beam splitter:\n",
    "# I am applying a rotation gate Rx around the x-axis by -π/2 rad to qubit 0.\n",
    "# The rx method takes 2 arguments (angle of rotation, qubit index)\n",
    "# The angle of rotation is -90° = -π/2 rad. Numpy computes this value.\n",
    "# The rx gate is applied on the first index qubit 0\n",
    "circuit.rx(-np.pi/2, 0)\n",
    "\n",
    "# Mirror : \n",
    "# I am applying an X gate on the first index qubit 0.\n",
    "# This X gate is equivalent to NOT gate which reverses the qubit state.\n",
    "circuit.x(0)\n",
    "\n",
    "# 2nd Beam splitter : \n",
    "# I am applying another rotation gate Rx \n",
    "# around the x-axis by -π/2 rad to qubit 0.\n",
    "circuit.rx(-np.pi/2, 0)"
   ]
  },
  {
   "cell_type": "markdown",
   "id": "6f1321c1-234f-425c-9d5d-d01a8a983ca2",
   "metadata": {},
   "source": [
    "#### vi) Measurement and circuit diagram :"
   ]
  },
  {
   "cell_type": "code",
   "execution_count": 19,
   "id": "39c4fa26-2e27-4110-af37-752439bea30f",
   "metadata": {},
   "outputs": [
    {
     "data": {
      "image/png": "[encoded data removed]",
      "text/plain": [
       "<Figure size 436.286x200.667 with 1 Axes>"
      ]
     },
     "execution_count": 19,
     "metadata": {},
     "output_type": "execute_result"
    }
   ],
   "source": [
    "# The measure method is used to measure qubit \n",
    "# and store the result in classical bit.\n",
    "# It takes 2 arguments (qubits, classical bits)\n",
    "# I am measuring the single qubit index 0\n",
    "# I am storing the result in single classical bit 0\n",
    "circuit.measure([0], [0])\n",
    "\n",
    "# The draw method is used to visualize the quantum circuit.\n",
    "# I am drawing the circuit using the 'mpl' output and 'iqp' style\n",
    "# mpl is used to render the quantum circuit using Matplotlib library.\n",
    "# iqp is used for styling the circuit diagram. \n",
    "circuit.draw(output='mpl', style='iqp')"
   ]
  },
  {
   "cell_type": "markdown",
   "id": "59ab3215-1c32-4860-9f16-05ef0f894374",
   "metadata": {},
   "source": [
    "***Fig 01 : Quantum Circuit for the Single Photon Interferometer***\n",
    "\n",
    "The above circuit diagram comprises of following notations and components :\n",
    "\n",
    "**Circuit Notations :**\n",
    "\n",
    "- **q** is the quantum bit which is represented by the solid horizontal line.\n",
    "- **c** is the classical bit after measurement which is represented by the double lines.\n",
    "- **1/** above the double lines represents the no. of classical data bits.\n",
    "\n",
    "**Circuit Components :**\n",
    "\n",
    "- **Rx** in red box represents the 1st Beam-Splitter. It is used to apply rotation around the x-axis by -π/2 rad.\n",
    "- **X** in blue box represents the Mirror. It is used to reflect the photon's path.\n",
    "- **Rx** in red box represents the 2nd Beam-Splitter. It is used to apply rotation around the x-axis by -π/2 rad.\n",
    "- **Meter** in gray box represents the Measurement operation."
   ]
  },
  {
   "cell_type": "markdown",
   "id": "cbccc646-4b3c-47aa-aeb6-ea3e6a1f3828",
   "metadata": {},
   "source": [
    "#### vii) Transpiling the circuit"
   ]
  },
  {
   "cell_type": "code",
   "execution_count": 20,
   "id": "2da4ae05-e115-427d-b5e2-d80ee34b90b2",
   "metadata": {},
   "outputs": [
    {
     "data": {
      "text/plain": [
       "<qiskit.circuit.quantumcircuit.QuantumCircuit at 0x1c74b17e4e0>"
      ]
     },
     "execution_count": 20,
     "metadata": {},
     "output_type": "execute_result"
    }
   ],
   "source": [
    "# Transpile transforms the circuit to something appropriate for the chosen hardware\n",
    "# circuit is my quantum circuit which I have created\n",
    "# device will be the least busy hardware selected\n",
    "# seed is used to get the same transpiled circuit every time I run\n",
    "# seed is helpful in testing and debugging and to maintain uniformity\n",
    "transpiled_circuit = transpile(circuit, device, seed_transpiler = 13) \n",
    "transpiled_circuit "
   ]
  },
  {
   "cell_type": "markdown",
   "id": "eaec9b64-e9db-4913-83e5-78a74b5abbf3",
   "metadata": {},
   "source": [
    "***It is the memory address of the transpiled circuit***"
   ]
  },
  {
   "cell_type": "markdown",
   "id": "f5386208-1fcf-4794-a109-93c48107544d",
   "metadata": {},
   "source": [
    "#### viii) Initializing the sampler"
   ]
  },
  {
   "cell_type": "code",
   "execution_count": 21,
   "id": "a0ae1bd3-b31d-4441-bf7d-84ce67bf8f19",
   "metadata": {},
   "outputs": [],
   "source": [
    "# I am creating a new object of SamplerV2 object\n",
    "# I am assigning this object to the variable named 'sampler'\n",
    "# It is used to find the probabilities of output states\n",
    "# mode = device is used to select the least busy hardware I got above\n",
    "sampler = Sampler(mode = device)"
   ]
  },
  {
   "cell_type": "markdown",
   "id": "129e789d-2a0d-4f5c-83b2-3465588ae85f",
   "metadata": {},
   "source": [
    "#### ix) Running hardware computation"
   ]
  },
  {
   "cell_type": "code",
   "execution_count": 22,
   "id": "bfafed92-9e58-4ec5-b10b-6a6dcb3805ae",
   "metadata": {},
   "outputs": [
    {
     "data": {
      "text/plain": [
       "<RuntimeJobV2('cymfmhj7v8tg008y5e1g', 'sampler')>"
      ]
     },
     "execution_count": 22,
     "metadata": {},
     "output_type": "execute_result"
    }
   ],
   "source": [
    "# The run method in the sampler executes the transpiled circuit\n",
    "# The Sampler is capable to run multiple circuits simultaneosuly, \n",
    "# but I have 1 circuit\n",
    "# so I am passing a single list containing my transpiled circuit\n",
    "# run method returns a job object which I am storing in variable 'job'\n",
    "job = sampler.run([transpiled_circuit]) \n",
    "job "
   ]
  },
  {
   "cell_type": "markdown",
   "id": "0a06d508-b2a9-44af-b5e2-313444e29b91",
   "metadata": {},
   "source": [
    "***It is the runtime object id***"
   ]
  },
  {
   "cell_type": "markdown",
   "id": "5303fb9e-7ec9-41fa-916d-de741edac78a",
   "metadata": {},
   "source": [
    "#### x) Fetch result"
   ]
  },
  {
   "cell_type": "code",
   "execution_count": 23,
   "id": "41ccc7ea-af2c-4311-adb8-6b0ff9b1893f",
   "metadata": {},
   "outputs": [
    {
     "data": {
      "text/plain": [
       "PrimitiveResult([SamplerPubResult(data=DataBin(c=BitArray(<shape=(), num_shots=4096, num_bits=1>)), metadata={'circuit_metadata': {}})], metadata={'execution': {'execution_spans': ExecutionSpans([SliceSpan(<start='2025-02-09 18:56:09', stop='2025-02-09 18:56:20', size=4096>)])}, 'version': 2})"
      ]
     },
     "execution_count": 23,
     "metadata": {},
     "output_type": "execute_result"
    }
   ],
   "source": [
    "# I am fetching the results of the sampler job execution.\n",
    "# I am storing this result in variable named 'result'.\n",
    "# This result contains the counts of each measurement outcome.\n",
    "result = job.result() \n",
    "result"
   ]
  },
  {
   "cell_type": "markdown",
   "id": "33d67671-3e05-4b1d-bba2-01541e25ffd0",
   "metadata": {},
   "source": [
    "***the BitArray in the SamplerPubResult contains the 4096 measurement outcomes of 0 and 1 obtained from hardware executions.***"
   ]
  },
  {
   "cell_type": "markdown",
   "id": "6eefddb4-eaec-4409-8aba-fcf09144ea87",
   "metadata": {},
   "source": [
    "#### xi) Storing the public result"
   ]
  },
  {
   "cell_type": "code",
   "execution_count": 24,
   "id": "9913fda0-f70e-45bb-8797-fdee6480fd42",
   "metadata": {},
   "outputs": [
    {
     "data": {
      "text/plain": [
       "SamplerPubResult(data=DataBin(c=BitArray(<shape=(), num_shots=4096, num_bits=1>)), metadata={'circuit_metadata': {}})"
      ]
     },
     "execution_count": 24,
     "metadata": {},
     "output_type": "execute_result"
    }
   ],
   "source": [
    "# I am running 1 circuit, and that is the first circuit \n",
    "# so I want to extract the result of only my circuit \n",
    "# the result is an array \n",
    "# the 1st element at 0th index is the public result\n",
    "pub_result = result[0]\n",
    "pub_result"
   ]
  },
  {
   "cell_type": "markdown",
   "id": "2975d0ff-639a-432a-9101-a20dc869803c",
   "metadata": {},
   "source": [
    "***It is the 1st element of the public result bit array***"
   ]
  },
  {
   "cell_type": "markdown",
   "id": "e7b9837d-972c-4ff7-b89b-e519b830c4ec",
   "metadata": {},
   "source": [
    "#### xii) Processing the BitArray and extraction of the classical data part from the public result "
   ]
  },
  {
   "cell_type": "code",
   "execution_count": 25,
   "id": "fbc9de70-1d36-4a6a-a113-e98f2d07bddc",
   "metadata": {},
   "outputs": [],
   "source": [
    "# I am extracting the classical data part from the public result\n",
    "# I am getting classical data 'c' from 'data' object in the 'pub_result'\n",
    "# data is the actual measurement data\n",
    "# the values of c tells about the count of each outcome\n",
    "classical_data = pub_result.data.c"
   ]
  },
  {
   "cell_type": "markdown",
   "id": "7bf91c27-0f53-4af6-b73a-2c48d67edd6c",
   "metadata": {},
   "source": [
    "#### xiii) Plotting the data"
   ]
  },
  {
   "cell_type": "code",
   "execution_count": 26,
   "id": "5fab0836-557e-4621-8d47-7eb758d50c54",
   "metadata": {},
   "outputs": [
    {
     "data": {
      "image/png": "[encoded data removed]",
      "text/plain": [
       "<Figure size 640x480 with 1 Axes>"
      ]
     },
     "execution_count": 26,
     "metadata": {},
     "output_type": "execute_result"
    }
   ],
   "source": [
    "# I am generating and displaying a histogram of the execution outcomes\n",
    "# classical_data.get_counts() method is used to \n",
    "# measure the data in the classical bit 'c'\n",
    "\n",
    "# By default, the no. of trials is 4096 in sampler.\n",
    "plot_histogram(classical_data.get_counts()) "
   ]
  },
  {
   "cell_type": "markdown",
   "id": "3d626a75-ced5-44bc-ae0f-9c5fd9e726fd",
   "metadata": {},
   "source": [
    "***Fig 02 : Measured state Vs Counts***\n",
    "\n",
    "The histogram represents the probability of measuring the output state when my quantum circuit runs on the simulator.\n",
    "\n",
    "In the above histogram :\n",
    "- The **x-axis** represents the measured state.\n",
    "- The **y-axis** represents the number of times each state was measured. By default, it is 4096 times.\n",
    "\n",
    "Here, there is 0 and 1 on x-axis, which means that the measurement found the qubit in |0⟩ state as well as |1>. The qubit remained in the |0> state in majority of trials i.e. in 4091 trials. The qubit was also found in the |1> state in only 5 trials. This is in accordance with our horizontal experimental setup."
   ]
  }
 ],
 "metadata": {
  "kernelspec": {
   "display_name": "Python 3 (ipykernel)",
   "language": "python",
   "name": "python3"
  },
  "language_info": {
   "codemirror_mode": {
    "name": "ipython",
    "version": 3
   },
   "file_extension": ".py",
   "mimetype": "text/x-python",
   "name": "python",
   "nbconvert_exporter": "python",
   "pygments_lexer": "ipython3",
   "version": "3.13.1"
  }
 },
 "nbformat": 4,
 "nbformat_minor": 5
}
