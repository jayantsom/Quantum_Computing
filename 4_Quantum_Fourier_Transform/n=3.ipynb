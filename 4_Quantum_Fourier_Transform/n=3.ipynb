{
 "cells": [
  {
   "cell_type": "markdown",
   "id": "a3f99989-019f-4b68-865e-9cf4a95a3f42",
   "metadata": {},
   "source": [
    "# QP-4 : QFT\n",
    "\n",
    " - Name : **Jayant Som**\n",
    " \n",
    " - Contact : **jsom@buffalo.edu | 716-348-7708**"
   ]
  },
  {
   "cell_type": "markdown",
   "id": "a7620b2b-4aa2-47e8-b62a-b20dbb51c401",
   "metadata": {},
   "source": [
    "**_______________________________________________________________________________________________________________**"
   ]
  },
  {
   "cell_type": "markdown",
   "id": "7d6df12b-bc85-43e9-9974-c2592a0be679",
   "metadata": {},
   "source": [
    "## QUESTION 1 : 3 QUBIT CIRCUIT"
   ]
  },
  {
   "cell_type": "markdown",
   "id": "cd3192bc-1360-4a26-a3d8-ecf714b25f65",
   "metadata": {},
   "source": [
    "**_______________________________________________________________________________________________________________**"
   ]
  },
  {
   "cell_type": "markdown",
   "id": "9e4814bc-11d3-432e-9bc3-7af2886076cf",
   "metadata": {},
   "source": [
    "#### Imports :"
   ]
  },
  {
   "cell_type": "code",
   "execution_count": 1,
   "id": "af9448a2-9864-4359-8489-1848814f1665",
   "metadata": {},
   "outputs": [],
   "source": [
    "# Numpy is used for working with arrays and perform numerical operations\n",
    "import numpy as np\n",
    "# Pyplot is used to create graphs\n",
    "import matplotlib.pyplot as plt\n",
    "# Plot_histogram is used to visualize the simulation result.\n",
    "from qiskit.visualization import plot_histogram\n",
    "\n",
    "# QuantumCircuit is used to create quantum circuits\n",
    "from qiskit import QuantumCircuit, transpile\n",
    "# Qiskit_aer library provides backend quantum simulators\n",
    "from qiskit_aer import Aer\n",
    "\n",
    "# QiskitRuntimeService class is used to run actual IBM QC hardware\n",
    "from qiskit_ibm_runtime import QiskitRuntimeService\n",
    "# SamplerV2 is used to find the probabilities of output states\n",
    "from qiskit_ibm_runtime import SamplerV2 as Sampler"
   ]
  },
  {
   "cell_type": "markdown",
   "id": "35d37076-1231-44f1-9c50-4c40d1355a1d",
   "metadata": {},
   "source": [
    "## Solution to (A) - Input Waveform preparation"
   ]
  },
  {
   "cell_type": "markdown",
   "id": "848ad4c5-b0b5-4400-8731-d266448970ba",
   "metadata": {},
   "source": [
    "#### i) Quantum circuit creation and adding different components:"
   ]
  },
  {
   "cell_type": "code",
   "execution_count": 2,
   "id": "fd082ea0-8467-49d4-96fd-e485739e2948",
   "metadata": {},
   "outputs": [],
   "source": [
    "# Number of qubits \n",
    "n_qubits = 3"
   ]
  },
  {
   "cell_type": "code",
   "execution_count": 3,
   "id": "3c01ba02-b451-41ee-b160-479cbbfaaad9",
   "metadata": {},
   "outputs": [
    {
     "data": {
      "image/png": "[encoded data removed]",
      "text/plain": [
       "<Figure size 371.107x367.889 with 1 Axes>"
      ]
     },
     "execution_count": 3,
     "metadata": {},
     "output_type": "execute_result"
    }
   ],
   "source": [
    "# Creating a Quantum Circuit \n",
    "qc = QuantumCircuit(n_qubits,n_qubits)\n",
    "\n",
    "# Adding H gates\n",
    "for i in range(n_qubits):\n",
    "    qc.h(i)\n",
    "\n",
    "# Applying z gate\n",
    "qc.z(0)\n",
    "\n",
    "# Creating barrier\n",
    "qc.barrier()\n",
    "\n",
    "# Visualizing the circuit\n",
    "qc.draw(output='mpl', style='iqp')"
   ]
  },
  {
   "cell_type": "markdown",
   "id": "450a4765-1ec1-4ce7-abaa-2040c63f8786",
   "metadata": {},
   "source": [
    "**Fig 01 : Quantum circuit with input state**"
   ]
  },
  {
   "cell_type": "markdown",
   "id": "1b4aac24-71b0-4dfb-8fca-73004a82b9eb",
   "metadata": {},
   "source": [
    "#### ii) Simulation"
   ]
  },
  {
   "cell_type": "code",
   "execution_count": 4,
   "id": "3bb1a6b8-450d-4745-9117-284bb2a464fd",
   "metadata": {},
   "outputs": [],
   "source": [
    "# Getting the simulator\n",
    "simulator = Aer.get_backend(\"statevector_simulator\")\n",
    "\n",
    "# Transpile transforms the circuit to something appropriate for the machine\n",
    "sim_circuit = transpile(qc, backend = simulator)\n",
    "\n",
    "# The run method in the simulator executes the transpiled circuit.\n",
    "sim_job = simulator.run(sim_circuit, shots = 4096)\n",
    "\n",
    "# I am fetching the results of the simulation job execution.\n",
    "sim_result = sim_job.result()\n",
    "\n",
    "# Getting the statevector\n",
    "statevector = sim_result.get_statevector()"
   ]
  },
  {
   "cell_type": "markdown",
   "id": "4b6b72c1-7e57-444c-ae10-bb673fef3d3d",
   "metadata": {},
   "source": [
    "#### iii) Fetching the amplitudes and plotting histogram :"
   ]
  },
  {
   "cell_type": "code",
   "execution_count": 5,
   "id": "102511bc-2b27-4dab-808b-d354f4b04c10",
   "metadata": {},
   "outputs": [
    {
     "data": {
      "image/png": "[encoded data removed]",
      "text/plain": [
       "<Figure size 1400x600 with 1 Axes>"
      ]
     },
     "metadata": {},
     "output_type": "display_data"
    }
   ],
   "source": [
    "# Getting the amplitudes of statevector\n",
    "amplitudes = np.real(statevector)   \n",
    "binaries=[] \n",
    "\n",
    "# Generating binary values\n",
    "for i in range(0,len(amplitudes)): \n",
    "    binaries +=['{0:03b}'.format(i)]\n",
    "\n",
    "# Plotting the input waveform\n",
    "plt.figure(figsize=(14,6)) \n",
    "plt.bar(binaries, amplitudes) \n",
    "plt.ylabel('Input Coefficients') \n",
    "plt.show()"
   ]
  },
  {
   "cell_type": "markdown",
   "id": "1793428c-90fb-48f0-a3f1-152da0cb997c",
   "metadata": {},
   "source": [
    "**Fig 02 : The Input Waveform : This is a Sine Wave with Period (T) =  2**"
   ]
  },
  {
   "cell_type": "markdown",
   "id": "277228a1-741b-4d91-92c8-406524946a1f",
   "metadata": {},
   "source": [
    "#### iv). Period and Expected Frequency analysis"
   ]
  },
  {
   "cell_type": "markdown",
   "id": "862602e7-5259-4257-b8af-d5ddab9da2f0",
   "metadata": {},
   "source": [
    "Harmonics are integer multiples of a fundamental frequency (f1) present in a waveform.\n",
    "- A sine wave (generated by Z(0)) contains only the fundamental frequency (f1), so there is no harmonics.\n",
    "\n",
    "For 3 Qubit circuit with Z(0) : \n",
    "- Period (T) =  2\n",
    "- Fundamental frequency (f1) = 2^n / T = 2^3 / 2 = 8 / 2 = 4"
   ]
  },
  {
   "cell_type": "code",
   "execution_count": 6,
   "id": "343c50d2-0ce8-4293-9e10-39d7a1284f55",
   "metadata": {},
   "outputs": [
    {
     "name": "stdout",
     "output_type": "stream",
     "text": [
      "Expected frequency: 4.0\n"
     ]
    }
   ],
   "source": [
    "period = 2\n",
    "frequency = len(binaries)/period\n",
    "print(f\"Expected frequency: {frequency}\")"
   ]
  },
  {
   "cell_type": "markdown",
   "id": "9bc66398-92fd-454b-810a-4bf30acb3429",
   "metadata": {},
   "source": [
    "**Expected QFT peak: ∣100⟩ (binary 4)**"
   ]
  },
  {
   "cell_type": "markdown",
   "id": "4de2f011-4ce6-4644-8997-6b45c5555c5d",
   "metadata": {},
   "source": [
    "## Solution to (B) - Building QFT Circuit"
   ]
  },
  {
   "cell_type": "markdown",
   "id": "3c27db1c-ac01-475b-a6d5-edf45b26d0b2",
   "metadata": {},
   "source": [
    "#### i) Defining function to create QFT :"
   ]
  },
  {
   "cell_type": "code",
   "execution_count": 7,
   "id": "c3da2a8a-1019-459c-ad22-75458aac780e",
   "metadata": {},
   "outputs": [],
   "source": [
    "# Function to create QFT\n",
    "def qft(qc, n_qubits):\n",
    "    for i in range(n_qubits-1, -1, -1):\n",
    "        qc.h(i)\n",
    "        for j in range(i-1, -1, -1):\n",
    "            # Controlled phase rotation\n",
    "            angle = np.pi/(2**(i-j))\n",
    "            qc.cp(angle, j, i)\n",
    "        qc.barrier()\n",
    "    \n",
    "    # Qubit swaps\n",
    "    for i in range(n_qubits//2):\n",
    "        qc.swap(i, n_qubits-1-i)\n",
    "    qc.barrier()"
   ]
  },
  {
   "cell_type": "markdown",
   "id": "ee5e4f0c-56df-4bfd-a8ee-c334c923a837",
   "metadata": {},
   "source": [
    "#### ii) Forming the QFT circuit :"
   ]
  },
  {
   "cell_type": "code",
   "execution_count": 8,
   "id": "7dcc5597-9827-4b14-a4f7-711924f9801d",
   "metadata": {},
   "outputs": [
    {
     "data": {
      "image/png": "[encoded data removed]",
      "text/plain": [
       "<Figure size 1792.5x367.889 with 1 Axes>"
      ]
     },
     "execution_count": 8,
     "metadata": {},
     "output_type": "execute_result"
    }
   ],
   "source": [
    "# Calling the function for creating QFT circuit\n",
    "qft(qc, n_qubits)\n",
    "\n",
    "# Creating the measurement of qubits\n",
    "for i in range(n_qubits): \n",
    "    qc.measure(i,i)\n",
    "\n",
    "# Visualizing the circuit\n",
    "qc.draw(output='mpl', style='iqp')"
   ]
  },
  {
   "cell_type": "markdown",
   "id": "b41242d2-0e3f-4d32-8038-9b113ac61ca9",
   "metadata": {},
   "source": [
    "**Fig 03 : 3 Qubit QFT Quantum Circuit with Z(0)**\n",
    "\n",
    "The above circuit diagram comprises of following notations and components :\n",
    "\n",
    "**Circuit Notations :**\n",
    "\n",
    "- **qo, q1, q2** are the 3 qubits represented by the solid horizontal line.\n",
    "- **c** is the classical bit after measurement which is represented by the double lines.\n",
    "- **3/** above the double lines represents the no. of classical data bits measurements.\n",
    "\n",
    "**Circuit Components :**\n",
    "\n",
    "- **H** in orange boxes represents the Hadamard gate. \n",
    "- **Z** in sky-blue box represents the Z gate.\n",
    "- **Controlled Phase Rotations** are represented by sky-blue lines.\n",
    "- **Swap gates** are represented by dark-blue lines with cross.\n",
    "- **Barrier** denoted by dotted lines separates the different segments of the circuit.\n",
    "- **Meters** in gray boxes represents the Measurement operation on qubits."
   ]
  },
  {
   "cell_type": "markdown",
   "id": "c6b9ea8f-f537-481c-be9f-a731eb4b1aaf",
   "metadata": {},
   "source": [
    "#### iii) QFT Simulation :"
   ]
  },
  {
   "cell_type": "code",
   "execution_count": 9,
   "id": "2e82ffc6-8a5b-496f-9d6a-6c76acde6d86",
   "metadata": {},
   "outputs": [
    {
     "data": {
      "image/png": "[encoded data removed]",
      "text/plain": [
       "<Figure size 640x480 with 1 Axes>"
      ]
     },
     "execution_count": 9,
     "metadata": {},
     "output_type": "execute_result"
    }
   ],
   "source": [
    "# Getting the simulator\n",
    "simulator_qft = Aer.get_backend(\"qasm_simulator\")\n",
    "\n",
    "# Transpile transforms the circuit to something appropriate for the machine\n",
    "sim_circuit_qft = transpile(qc, backend = simulator_qft)\n",
    "\n",
    "# The run method in the simulator executes the transpiled circuit.\n",
    "sim_job_qft = simulator.run(sim_circuit_qft, shots = 4096)\n",
    "\n",
    "# I am fetching the results of the simulation job execution.\n",
    "sim_result_qft = sim_job_qft.result()\n",
    "\n",
    "# I am generating and displaying a histogram of the simulation outcomes.\n",
    "plot_histogram(sim_result_qft.get_counts())"
   ]
  },
  {
   "cell_type": "markdown",
   "id": "1b6a508d-3eea-4c10-89b6-14427b8f6123",
   "metadata": {},
   "source": [
    "**Fig 04 : Measured state Vs Counts**"
   ]
  },
  {
   "cell_type": "markdown",
   "id": "8baa7ceb-3cfa-4a28-b243-d9f81153c4f7",
   "metadata": {},
   "source": [
    "#### iv). Measured Frequency analysis"
   ]
  },
  {
   "cell_type": "markdown",
   "id": "cf1248e8-73cd-42c7-8ad0-c0927d746ccf",
   "metadata": {},
   "source": [
    "Expected QFT peak was ∣100⟩\n",
    "\n",
    "Measured QFT peak is also ∣100⟩ with 100% probability after all 4096 trials.\n",
    "\n",
    "**Hence, the measured frequency is in agreement with expected frequency.**"
   ]
  },
  {
   "cell_type": "markdown",
   "id": "0020ae01-6787-4989-b231-4b97af73bc6e",
   "metadata": {},
   "source": [
    "## Solution to (C) - IBM QC Hardware calculation"
   ]
  },
  {
   "cell_type": "code",
   "execution_count": 10,
   "id": "604653ad-e9c1-42f1-a224-06c8abe1b340",
   "metadata": {},
   "outputs": [
    {
     "data": {
      "image/png": "[encoded data removed]",
      "text/plain": [
       "<Figure size 640x480 with 1 Axes>"
      ]
     },
     "execution_count": 10,
     "metadata": {},
     "output_type": "execute_result"
    }
   ],
   "source": [
    "# Connecting with my IBMQ account and use the sevices\n",
    "service = QiskitRuntimeService()\n",
    "\n",
    "# Fetch list of all available quantum backends\n",
    "mybackends = service.backends(operational = True, simulator = False, \n",
    "                              min_num_qubits = 5)\n",
    "\n",
    "# Pick the best available backend\n",
    "device = service.least_busy(operational = True, simulator = False, \n",
    "                            min_num_qubits = 5)\n",
    "\n",
    "# Transforms my circuit to something appropriate for the hardware\n",
    "transpiled_circuit = transpile(qc, device, seed_transpiler = 13)\n",
    "\n",
    "# SamplerV2 is used to find the probabilities of output states\n",
    "sampler = Sampler(mode = device)\n",
    "\n",
    "# Executing the transpiled circuit\n",
    "job_hardware = sampler.run([transpiled_circuit])\n",
    "\n",
    "# Fetching the results of the sampler job execution.\n",
    "result_hardware = job_hardware.result()\n",
    "\n",
    "# the 1st element at 0th index is the public result\n",
    "pub_result = result_hardware[0]\n",
    "\n",
    "# Extracting the classical data from the public result\n",
    "classical_data = pub_result.data.c\n",
    "\n",
    "# Displaying a histogram of the execution outcomes\n",
    "plot_histogram(classical_data.get_counts())"
   ]
  },
  {
   "cell_type": "markdown",
   "id": "055540b8-d9ce-437e-a481-bd9a047e6bd3",
   "metadata": {},
   "source": [
    "***Fig 05 : Measured state Vs Counts***"
   ]
  },
  {
   "cell_type": "markdown",
   "id": "a44d34ff-1c7b-4620-934c-53670860c637",
   "metadata": {},
   "source": [
    "#### Hardware result analysis\n",
    "\n",
    "The histogram represents the probability of measuring the output states when my quantum circuit runs on the IBM QC Hardware.\n",
    "\n",
    "In the above histogram :\n",
    "- The **x-axis** represents the measured states.\n",
    "- The **y-axis** represents the number of times each state was measured.\n",
    "\n",
    "The circuit ran for 4096 trials on the IBM QC Hardware. \n",
    "\n",
    "Here, on the x-axis, there are multiple different measured states with smaller counts and 100 with count 3718.\n",
    "\n",
    "3718/4096 = 0.9077\n",
    "\n",
    "This means that the measurement found the 100 state with 90.77% probability.\n",
    "\n",
    "The QFT peak after simulation was ∣100⟩. The hardware result also shows that the QFT peak with highest probability is ∣100⟩.\n",
    "\n",
    "**Hence, the hardware result is in agreement with simulation result.**"
   ]
  }
 ],
 "metadata": {
  "kernelspec": {
   "display_name": "Python 3 (ipykernel)",
   "language": "python",
   "name": "python3"
  },
  "language_info": {
   "codemirror_mode": {
    "name": "ipython",
    "version": 3
   },
   "file_extension": ".py",
   "mimetype": "text/x-python",
   "name": "python",
   "nbconvert_exporter": "python",
   "pygments_lexer": "ipython3",
   "version": "3.13.1"
  }
 },
 "nbformat": 4,
 "nbformat_minor": 5
}
