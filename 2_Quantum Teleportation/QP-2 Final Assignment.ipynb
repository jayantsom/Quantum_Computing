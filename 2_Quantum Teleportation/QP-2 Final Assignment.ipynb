{
 "cells": [
  {
   "cell_type": "markdown",
   "id": "f3957a77-4696-418c-b6a1-4ba89f41f349",
   "metadata": {},
   "source": [
    "# QP-2 : Quantum Teleportation\n",
    "\n",
    " - Name : **Jayant Som**\n",
    " \n",
    " - Contact : **jsom@buffalo.edu | 716-348-7708**"
   ]
  },
  {
   "cell_type": "markdown",
   "id": "23f4d784-138d-4288-a158-f16e04801419",
   "metadata": {},
   "source": [
    "**_______________________________________________________________________________________________________________**"
   ]
  },
  {
   "cell_type": "markdown",
   "id": "2d87c62c-4a33-4de0-bda6-7a458be3d3db",
   "metadata": {},
   "source": [
    "## 1. Quantum Circuit creation"
   ]
  },
  {
   "cell_type": "markdown",
   "id": "bf959f6a-59a5-4768-b524-672cb92f3538",
   "metadata": {},
   "source": [
    "#### i) Imports :"
   ]
  },
  {
   "cell_type": "code",
   "execution_count": 1,
   "id": "7e652a2d-49dc-4d29-994f-773fb6245373",
   "metadata": {},
   "outputs": [],
   "source": [
    "# Importing the QuantumCircuit class from Qiskit\n",
    "# The QuantumCircuit class is used to create quantum circuits\n",
    "from qiskit import QuantumCircuit\n",
    "\n",
    "# Importing the plot_histogram function from qiskit \n",
    "# It used to visualize the simulation result.\n",
    "from qiskit.visualization import plot_histogram\n",
    "\n",
    "# Importing the numpy library\n",
    "# Numpy is used for working with arrays and perform numerical operations\n",
    "import numpy as np"
   ]
  },
  {
   "cell_type": "markdown",
   "id": "7d5efa89-b38b-40e0-b121-98073260df6e",
   "metadata": {},
   "source": [
    "#### ii) Quantum circuit creation and adding different components:"
   ]
  },
  {
   "cell_type": "markdown",
   "id": "229759a8-b1ba-49c5-8847-3b9f5d619600",
   "metadata": {},
   "source": [
    "The secret state ***|Ψ> = cos(pi/5)|0> + i sin(pi/5)|1>***\n",
    "\n",
    "- the probability of **|0>** is approx **65.5%**\n",
    "- the probability of **|1>** is approx **34.5%**"
   ]
  },
  {
   "cell_type": "code",
   "execution_count": 2,
   "id": "09af8465-edb9-4697-baf6-d4f678f2abac",
   "metadata": {},
   "outputs": [
    {
     "data": {
      "text/plain": [
       "<qiskit.circuit.instructionset.InstructionSet at 0x2af488701f0>"
      ]
     },
     "execution_count": 2,
     "metadata": {},
     "output_type": "execute_result"
    }
   ],
   "source": [
    "# Creating a Quantum Circuit with 3 qubits and 1 classical bit\n",
    "circuit = QuantumCircuit(3, 1)\n",
    "\n",
    "# Preparing the state |Ψ> = cos(pi/5)|0> + i sin(pi/5)|1> on q0\n",
    "circuit.ry(-2.0 * np.pi / 5.0, 0)\n",
    "\n",
    "# Preparing Bell state |B00> on qubits q1 and q2\n",
    "# H followed by CNOT produces entanglement\n",
    "# Applying Hadamard gate to q1\n",
    "circuit.h(1) \n",
    "# Applying CNOT gate with q1 as control and q2 as target\n",
    "circuit.cx(1, 2)  \n",
    "\n",
    "# 1st barrier : to separate state preparation from teleportation\n",
    "circuit.barrier()\n",
    "\n",
    "# Performing Teleportation step\n",
    "# Applying CNOT gate with q0 as control and q1 as target\n",
    "circuit.cx(0, 1)\n",
    "# Applying Hadamard gate to q0\n",
    "circuit.h(0)\n",
    "\n",
    "# 2nd Barrier : to separate teleportation from corrections\n",
    "circuit.barrier()\n",
    "\n",
    "# Applying the corrections to q2 to render the final state\n",
    "# Applying X gate if q1 is 1\n",
    "circuit.cx(1, 2)\n",
    "# Applying Z gate if q0 is 1\n",
    "circuit.cz(0, 2)  \n",
    "\n",
    "# 3rd barrier: to separate correction from final measurement\n",
    "circuit.barrier()\n",
    "\n",
    "# I am measuring q2 to verify the teleported state\n",
    "# Measuring q2 and storing the result in classical bit 0\n",
    "circuit.measure(2, 0)"
   ]
  },
  {
   "cell_type": "markdown",
   "id": "c9b6cb52-00d3-4cbd-9808-1753d5e6fb5e",
   "metadata": {},
   "source": [
    "#### iii) Circuit diagram :"
   ]
  },
  {
   "cell_type": "code",
   "execution_count": 3,
   "id": "b547fa48-28f3-4e4a-9fc5-53dd33110da7",
   "metadata": {},
   "outputs": [
    {
     "data": {
      "image/png": "[encoded data removed]",
      "text/plain": [
       "<Figure size 956.385x367.889 with 1 Axes>"
      ]
     },
     "execution_count": 3,
     "metadata": {},
     "output_type": "execute_result"
    }
   ],
   "source": [
    "# The draw method is used to visualize the quantum circuit.\n",
    "# I am drawing the circuit using the 'mpl' output and 'iqp' style\n",
    "circuit.draw(output='mpl', style='iqp')"
   ]
  },
  {
   "cell_type": "markdown",
   "id": "c37ca08a-28f7-4bf6-aea5-9de8d07c62dc",
   "metadata": {},
   "source": [
    "***Fig 01 : Quantum Circuit for the Single Photon Interferometer***\n",
    "\n",
    "The above circuit diagram comprises of following notations and components :\n",
    "\n",
    "**Circuit Notations :**\n",
    "\n",
    "- **qo** is the 1st qubit represented by the solid horizontal line. (Alice's)\n",
    "- **q1** is the 2nd qubit represented by the solid horizontal line. (Alice's)\n",
    "- **q2** is the 3rd qubit represented by the solid horizontal line. (Bob's)\n",
    "- **c** is the classical bit after measurement which is represented by the double lines.\n",
    "- **1/** above the double lines represents the no. of classical data bits.\n",
    "\n",
    "**Circuit Components (left to right according to time step) :**\n",
    "\n",
    "- **Ry** in red box represents the rotation operator. It is used to apply rotation around the y-axis by -2π/5 rad. It is used for preparing the secret state |Ψ> = cos(pi/5)|0> + i sin(pi/5)|1> on q0.\n",
    "- **H** in orange box represents the Hadamard gate on q1. It produces superposition.\n",
    "- **CNOT** denoted by dark-blue line where **.** is the control(q1) and **+** is the target(q2).\n",
    "  H followed by CNOT produces entanglement.\n",
    "- **Barrier** denoted by dotted lines separates the initial state preparation from teleportation.\n",
    "- **CNOT** denoted by dark-blue line where **.** is the control(q0) and **+** is the target(q1).\n",
    "- **H** in orange box represents the Hadamard gate on q0.\n",
    "  CNOT followed by H produces disentanglement.\n",
    "- **Barrier** denoted by dotted lines separates to separate teleportation step from corrections.\n",
    "- **CX** denoted by dark-blue line where **.** is the control(q1) and **+** is the target(q2).\n",
    "- **CZ** denoted by sky-blue line where **.** is the control(q0) and **.** is the target(q2).\n",
    "- **Meter** in gray box represents the Measurement operation."
   ]
  },
  {
   "cell_type": "markdown",
   "id": "9d47a466-2e89-42a3-875c-7765d9c9f451",
   "metadata": {},
   "source": [
    "## 2. Simulation code and output"
   ]
  },
  {
   "cell_type": "markdown",
   "id": "199e9102-7c10-4d57-aef1-8d7c89ae2f78",
   "metadata": {},
   "source": [
    "#### i) Imports :"
   ]
  },
  {
   "cell_type": "code",
   "execution_count": 4,
   "id": "d220154b-8b79-4b1c-a2b6-7d8c18d74532",
   "metadata": {},
   "outputs": [],
   "source": [
    "# The qiskit_aer library provides backend quantum simulators \n",
    "# I am importing the Aer module which contains various type of simulators.\n",
    "from qiskit_aer import Aer\n",
    "\n",
    "# I am importing the transpile function from the qiskit library\n",
    "# Transpile function is required to ensure that my circuit \n",
    "# is able to run on the simulator.\n",
    "from qiskit import transpile"
   ]
  },
  {
   "cell_type": "markdown",
   "id": "f7a28524-eaab-4f3a-8c3b-e0eb5eb1fd56",
   "metadata": {},
   "source": [
    "#### ii) Getting the Simulator and running it"
   ]
  },
  {
   "cell_type": "code",
   "execution_count": 5,
   "id": "90a89474-5fd4-4120-92fd-2433567003de",
   "metadata": {},
   "outputs": [],
   "source": [
    "# The qasm simulator runs the circuit and its result is classical bits.\n",
    "simulator = Aer.get_backend(\"qasm_simulator\")\n",
    "\n",
    "# Transpile transforms the circuit to something appropriate for the machine.\n",
    "# I am transpiling my circuit for the backend qasm simulator\n",
    "sim_circuit = transpile(circuit, backend = simulator)\n",
    "\n",
    "# The run method in the simulator executes the transpiled circuit.\n",
    "# I am running the trial 4096 times.\n",
    "job_sim = simulator.run(sim_circuit, shots = 4096)"
   ]
  },
  {
   "cell_type": "markdown",
   "id": "f9e8aa12-6965-422f-ab62-9dc3bd177bb4",
   "metadata": {},
   "source": [
    "#### iii) Fetching the result and plotting histogram :"
   ]
  },
  {
   "cell_type": "code",
   "execution_count": 6,
   "id": "f143cce8-7c64-4930-894d-f0e64327ab16",
   "metadata": {},
   "outputs": [
    {
     "data": {
      "image/png": "[encoded data removed]",
      "text/plain": [
       "<Figure size 640x480 with 1 Axes>"
      ]
     },
     "execution_count": 6,
     "metadata": {},
     "output_type": "execute_result"
    }
   ],
   "source": [
    "# I am fetching the results of the simulation job execution.\n",
    "# This result contains the counts of each measurement outcome.\n",
    "result_sim = job_sim.result()\n",
    "\n",
    "# result.get_counts() method is used to find the count of different outcomes.\n",
    "# I am generating and displaying a histogram of the simulation outcomes.\n",
    "plot_histogram(result_sim.get_counts(circuit))"
   ]
  },
  {
   "cell_type": "markdown",
   "id": "71860c5f-9799-46af-93fe-595646b6ad8e",
   "metadata": {},
   "source": [
    "***Fig 02 : Measured state Vs Counts***\n",
    "\n",
    "The histogram represents the probability of measuring the output states when my quantum circuit runs on the simulator.\n",
    "\n",
    "In the above histogram :\n",
    "- The **x-axis** represents the measured states.\n",
    "- The **y-axis** represents the number of times each state was measured.\n",
    "\n",
    "I ran my circuit for 4096 trials. \n",
    "\n",
    "Here, on the x-axis, there is 0 with count 2720 and 1 with count 1376, which means that the measurement found the qubit q2 in :\n",
    "- |0⟩ state 2747 times out of 4096 trials, so probability of |0⟩ state is 2747/4096 = **67.0%**\n",
    "- |1⟩ state 1349 times out of 4096 trials, so probability of |1⟩ state is 1349/4096 = **33.0%**\n",
    "\n",
    "These probability values of finding q2 in |0⟩ and |1⟩ is approx very close to that in intial state |Ψ>, |0> 65.5% and |1> 34.5%. This proves that the teleportation was successful."
   ]
  },
  {
   "cell_type": "markdown",
   "id": "fe076e7f-6ad4-4ee1-9b72-5f74228de5b2",
   "metadata": {},
   "source": [
    "## 3. IBM QC Hardware calculation"
   ]
  },
  {
   "cell_type": "markdown",
   "id": "497e6d98-8869-4048-9965-fe9172b2ab48",
   "metadata": {},
   "source": [
    "#### i) Imports :"
   ]
  },
  {
   "cell_type": "code",
   "execution_count": 7,
   "id": "586ff0bf-8b94-4688-ae09-8c2f7d24645f",
   "metadata": {},
   "outputs": [],
   "source": [
    "# Importing the QiskitRuntimeService class from qiskit_ibm_runtime module\n",
    "# The QiskitRuntimeService class is used to connect to IBMQ Services \n",
    "# and run actual IBM QC hardware\n",
    "from qiskit_ibm_runtime import QiskitRuntimeService\n",
    "\n",
    "# Importing the SamplerV2 class from qiskit_ibm_runtime module\n",
    "# The SamplerV2 class is used to find the probabilities of output states\n",
    "from qiskit_ibm_runtime import SamplerV2 as Sampler"
   ]
  },
  {
   "cell_type": "markdown",
   "id": "50c735d6-fcbe-4a6a-acac-698b922f97f4",
   "metadata": {},
   "source": [
    "#### ii) Getting the Hardware and running it"
   ]
  },
  {
   "cell_type": "code",
   "execution_count": 8,
   "id": "0635f7b3-d9fd-4478-8e81-c1a4ded3f8a5",
   "metadata": {},
   "outputs": [
    {
     "data": {
      "text/plain": [
       "[<IBMBackend('ibm_brisbane')>,\n",
       " <IBMBackend('ibm_sherbrooke')>,\n",
       " <IBMBackend('ibm_kyiv')>]"
      ]
     },
     "execution_count": 8,
     "metadata": {},
     "output_type": "execute_result"
    }
   ],
   "source": [
    "# I am creating a new object of QiskitRuntimeService\n",
    "# It is used to connect with my IBMQ account and use the sevices\n",
    "service = QiskitRuntimeService()\n",
    "\n",
    "\n",
    "# backends method is used to fetch list of all available quantum backends\n",
    "mybackends = service.backends(operational = True, simulator = False, \n",
    "                              min_num_qubits = 5)\n",
    "mybackends"
   ]
  },
  {
   "cell_type": "code",
   "execution_count": 9,
   "id": "8b8be3f5-e201-47f8-bd1e-a86ea33f24f0",
   "metadata": {},
   "outputs": [
    {
     "data": {
      "text/plain": [
       "<IBMBackend('ibm_kyiv')>"
      ]
     },
     "execution_count": 9,
     "metadata": {},
     "output_type": "execute_result"
    }
   ],
   "source": [
    "# least_busy method is used to pick the best available backend\n",
    "device = service.least_busy(operational = True, simulator = False, \n",
    "                            min_num_qubits = 5) \n",
    "device"
   ]
  },
  {
   "cell_type": "code",
   "execution_count": 10,
   "id": "e9d4828a-b9b7-43f4-93ce-a9397916e5e8",
   "metadata": {},
   "outputs": [],
   "source": [
    "# Transpile transforms the circuit to something appropriate for the hardware\n",
    "# seed is used to get the same transpiled circuit every time I run\n",
    "transpiled_circuit = transpile(circuit, device, seed_transpiler = 13)\n",
    "\n",
    "# SamplerV2 is used to find the probabilities of output states\n",
    "# mode = device is used to select the least busy hardware I got above\n",
    "sampler = Sampler(mode = device)\n",
    "\n",
    "# The run method in the sampler executes the transpiled circuit\n",
    "job_hardware = sampler.run([transpiled_circuit]) "
   ]
  },
  {
   "cell_type": "markdown",
   "id": "0b53e886-d495-45e8-b1f6-b49b63ea3d50",
   "metadata": {},
   "source": [
    "#### iii) Fetching the result and plotting histogram :"
   ]
  },
  {
   "cell_type": "code",
   "execution_count": 11,
   "id": "5d556eb7-75fc-4ebb-8440-2615ce0b9346",
   "metadata": {},
   "outputs": [
    {
     "data": {
      "image/png": "[encoded data removed]",
      "text/plain": [
       "<Figure size 640x480 with 1 Axes>"
      ]
     },
     "execution_count": 11,
     "metadata": {},
     "output_type": "execute_result"
    }
   ],
   "source": [
    "# I am fetching the results of the sampler job execution.\n",
    "# This result contains the counts of each measurement outcome.\n",
    "result_hardware = job_hardware.result()\n",
    "\n",
    "# the 1st element at 0th index is the public result\n",
    "pub_result = result_hardware[0]\n",
    "\n",
    "# I am extracting the classical data part from the public result\n",
    "# the values of c tells about the count of each outcome\n",
    "classical_data = pub_result.data.c\n",
    "\n",
    "# .get_counts() is used to measure the data in the classical bit 'c'\n",
    "# I am generating and displaying a histogram of the execution outcomes\n",
    "plot_histogram(classical_data.get_counts()) "
   ]
  },
  {
   "cell_type": "markdown",
   "id": "91a873e3-0d2e-4e6f-aaa4-6c078b879fad",
   "metadata": {},
   "source": [
    "***Fig 03 : Measured state Vs Counts***\n",
    "\n",
    "The histogram represents the probability of measuring the output states when my quantum circuit runs on the IBM QC Hardware.\n",
    "\n",
    "In the above histogram :\n",
    "- The **x-axis** represents the measured states.\n",
    "- The **y-axis** represents the number of times each state was measured.\n",
    "\n",
    "The circuit ran for 4096 trials on the IBM QC Hardware. \n",
    "\n",
    "Here, on the x-axis, there is 0 with count 2720 and 1 with count 1376, which means that the measurement found the qubit q2 in :\n",
    "- |0⟩ state 2592 times out of 4096 trials, so probability of |0⟩ state is 2592/4096 = **63.3%**\n",
    "- |1⟩ state 1504 times out of 4096 trials, so probability of |1⟩ state is 1504/4096 = **36.7%**\n",
    "\n",
    "These probability values of finding q2 in |0⟩ and |1⟩ is approx very close to that in intial state |Ψ>, |0> 65.5% and |1> 34.5%. This proves that the teleportation was successful. \n",
    "\n",
    "Also the simulator and the IBM QC Hardware produced very similar results, which validates the teleportation."
   ]
  }
 ],
 "metadata": {
  "kernelspec": {
   "display_name": "Python 3 (ipykernel)",
   "language": "python",
   "name": "python3"
  },
  "language_info": {
   "codemirror_mode": {
    "name": "ipython",
    "version": 3
   },
   "file_extension": ".py",
   "mimetype": "text/x-python",
   "name": "python",
   "nbconvert_exporter": "python",
   "pygments_lexer": "ipython3",
   "version": "3.13.1"
  }
 },
 "nbformat": 4,
 "nbformat_minor": 5
}
